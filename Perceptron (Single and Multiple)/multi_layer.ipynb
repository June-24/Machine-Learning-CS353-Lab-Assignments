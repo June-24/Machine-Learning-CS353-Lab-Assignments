{
 "cells": [
  {
   "cell_type": "code",
   "execution_count": 2,
   "metadata": {},
   "outputs": [
    {
     "data": {
      "text/plain": [
       "\" \\nApproach: \\n\\nlet Z1 = A'B  weights used here are : w1\\nlet Z2 = AB'  weights used here are : w2\\n\\nlet Z = Z1 + Z2 weights used here are : w3\\n\\nnow lets see the truth table\\nA_|__B__|_Z1__|_Z2_|__Z\\n0 |  0  | 0   | 0  |  0\\n0 |  1  | 1   | 0  |  1\\n1 |  0  | 0   | 1  |  1\\n1 |  1  | 0   | 0  |  0\\n\\nalso you can verify by drawing graphs that Z1, Z2, Z all are linearly separable\\nso all can be a 1d perceptron, but overall its a 2 layer one by combing all\\n\\nSteps : \\n1. train weights w1 using the table and a 1d perceptron\\n2. train similarly for w2 and w3\\n3. now when anyone gives input, first evaluate z1,z2 then out in w3 to get z value.\\n4. for now activation im using the normal activation of sgn(x) 1 : x > 0 ,0 : else\\n\\n\""
      ]
     },
     "execution_count": 2,
     "metadata": {},
     "output_type": "execute_result"
    }
   ],
   "source": [
    "# Q : create a Multi Level perceptron for solving XOR problem\n",
    "# XOR problem is not linearly separable\n",
    "# hence we need to use a multi level perceptron to solve this\n",
    "\n",
    "# A XOR B = A'B + AB' (X' -> NOT X)\n",
    "# A XOR B = (A OR B) AND (A NAND B)\n",
    "\n",
    "\n",
    "# so technically the smaller operations in it use AND and OR gate, which are lineraly separable\n",
    "# using both AND and OR gate perceptrons we can solve the XOR problem\n",
    "''' \n",
    "Approach: \n",
    "\n",
    "let Z1 = A'B  weights used here are : w1\n",
    "let Z2 = AB'  weights used here are : w2\n",
    "\n",
    "let Z = Z1 + Z2 weights used here are : w3\n",
    "\n",
    "now lets see the truth table\n",
    "A_|__B__|_Z1__|_Z2_|__Z\n",
    "0 |  0  | 0   | 0  |  0\n",
    "0 |  1  | 1   | 0  |  1\n",
    "1 |  0  | 0   | 1  |  1\n",
    "1 |  1  | 0   | 0  |  0\n",
    "\n",
    "also you can verify by drawing graphs that Z1, Z2, Z all are linearly separable\n",
    "so all can be a 1d perceptron, but overall its a 2 layer one by combing all\n",
    "\n",
    "Steps : \n",
    "1. train weights w1 using the table and a 1d perceptron\n",
    "2. train similarly for w2 and w3\n",
    "3. now when anyone gives input, first evaluate z1,z2 then out in w3 to get z value.\n",
    "4. for now activation im using the normal activation of sgn(x) 1 : x > 0 ,0 : else\n",
    "\n",
    "'''"
   ]
  },
  {
   "cell_type": "code",
   "execution_count": 3,
   "metadata": {},
   "outputs": [],
   "source": [
    "import numpy as np"
   ]
  },
  {
   "cell_type": "code",
   "execution_count": 4,
   "metadata": {},
   "outputs": [],
   "source": [
    "class Perceptron:\n",
    "    def __init__(self, input_size, weights, learning_rate=0.0001, epochs=200000000):\n",
    "        self.weights = weights\n",
    "        self.learning_rate = learning_rate\n",
    "        self.epochs = epochs\n",
    "        \n",
    "    # activation function\n",
    "    def activation(self, x):\n",
    "        return 1 if x > 0 else 0\n",
    "    \n",
    "    # prediction part\n",
    "    def prediction(self, inputs):\n",
    "        summation = self.weights[0]\n",
    "        for i in range(len(inputs)):\n",
    "            summation += self.weights[i+1]*inputs[i]\n",
    "        return self.activation(summation)\n",
    "    \n",
    "    # training part\n",
    "    def learning(self, train_input, labels):\n",
    "        # keeping a limit of epochs to avoid infinite loop\n",
    "        for j in range(self.epochs):\n",
    "            error = 0\n",
    "            # in each epoch, we are going through all the training data\n",
    "            for i in range(len(train_input)):\n",
    "                prediction = self.prediction(train_input[i])\n",
    "                # updating the wweights by (target-predicted)*input*learning_rate\n",
    "                self.weights[0] += self.learning_rate * (labels[i] - prediction) * 1\n",
    "                for k in range(len(train_input[i])):\n",
    "                    self.weights[k+1] += self.learning_rate * (labels[i] - prediction) * train_input[i][k]\n",
    "                error += abs(labels[i] - prediction)\n",
    "            if error == 0:\n",
    "                print(\"Learning done at iteration:\", j,\" (as error = 0)\")\n",
    "                break\n",
    "                "
   ]
  },
  {
   "cell_type": "code",
   "execution_count": 5,
   "metadata": {},
   "outputs": [
    {
     "name": "stdout",
     "output_type": "stream",
     "text": [
      "Learning done at iteration: 6111  (as error = 0)\n",
      "Z1 gate prediction\n",
      "A_| B___|_Z1\n",
      "0 | 0   | 0\n",
      "0 | 1   | 1\n",
      "1 | 0   | 0\n",
      "1 | 1   | 0\n",
      "Learning done at iteration: 6111  (as error = 0)\n",
      "Z2 gate prediction\n",
      "A_| B___|_Z2\n",
      "0 | 0   | 0\n",
      "0 | 1   | 0\n",
      "1 | 0   | 1\n",
      "1 | 1   | 0\n",
      "Learning done at iteration: 5001  (as error = 0)\n",
      "Z gate prediction\n",
      "A_| B___|_Z\n",
      "0 | 0   | 0\n",
      "0 | 1   | 1\n",
      "1 | 0   | 1\n",
      "0 | 0   | 0\n"
     ]
    }
   ],
   "source": [
    "# neew to train 3 things z1, z2, z\n",
    "# z1 first \n",
    "w1 = [1, 1, 1]\n",
    "w2 = [1, 1, 1]\n",
    "w3 = [1, 1, 1]\n",
    "\n",
    "z1_inputs = np.array([[0, 0], [0, 1], [1, 0], [1, 1]])\n",
    "z1_labels = np.array([0, 1, 0, 0]) \n",
    "\n",
    "z2_inputs = np.array([[0, 0], [0, 1], [1, 0], [1, 1]])\n",
    "z2_labels = np.array([0, 0, 1, 0]) \n",
    "\n",
    "z_inputs = np.array([[0, 0], [1, 0], [0, 1], [0, 0]])\n",
    "z_labels = np.array([0, 1, 1, 0]) \n",
    "\n",
    "z1_perceptron = Perceptron(2, w1)\n",
    "z2_perceptron = Perceptron(2, w2)\n",
    "z_perceptron = Perceptron(2, w3)\n",
    "\n",
    "z1_perceptron.learning(z1_inputs, z1_labels)\n",
    "# now for prediction of Z1\n",
    "print(\"Z1 gate prediction\")\n",
    "print(\"A_| B___|_Z1\")\n",
    "print(\"0 | 0   |\",z1_perceptron.prediction([0, 0]))\n",
    "print(\"0 | 1   |\",z1_perceptron.prediction([0, 1]))\n",
    "print(\"1 | 0   |\",z1_perceptron.prediction([1, 0]))\n",
    "print(\"1 | 1   |\",z1_perceptron.prediction([1, 1]))\n",
    "\n",
    "z2_perceptron.learning(z2_inputs, z2_labels)\n",
    "# now for prediction of Z1\n",
    "print(\"Z2 gate prediction\")\n",
    "print(\"A_| B___|_Z2\")\n",
    "print(\"0 | 0   |\",z2_perceptron.prediction([0, 0]))\n",
    "print(\"0 | 1   |\",z2_perceptron.prediction([0, 1]))\n",
    "print(\"1 | 0   |\",z2_perceptron.prediction([1, 0]))\n",
    "print(\"1 | 1   |\",z2_perceptron.prediction([1, 1]))\n",
    "\n",
    "z_perceptron.learning(z_inputs, z_labels)\n",
    "# now for prediction of Z1\n",
    "print(\"Z gate prediction\")\n",
    "print(\"A_| B___|_Z\")\n",
    "print(\"0 | 0   |\",z_perceptron.prediction([0, 0]))\n",
    "print(\"0 | 1   |\",z_perceptron.prediction([0, 1]))\n",
    "print(\"1 | 0   |\",z_perceptron.prediction([1, 0]))\n",
    "print(\"0 | 0   |\",z_perceptron.prediction([0, 0]))"
   ]
  },
  {
   "cell_type": "code",
   "execution_count": 6,
   "metadata": {},
   "outputs": [
    {
     "name": "stdout",
     "output_type": "stream",
     "text": [
      "XOR gate prediction\n",
      "A_| B___|_Y\n",
      "0 | 0   | 0\n",
      "0 | 1   | 1\n",
      "1 | 0   | 1\n",
      "1 | 1   | 0\n"
     ]
    }
   ],
   "source": [
    "# now as all z1, z2, z all are trained,\n",
    "# using the weights of z1, z2, z we can get the XOR gate\n",
    "# we need to now combine all these to get the XOR gate\n",
    "\n",
    "def XOR(a, b):\n",
    "    z1_output = z1_perceptron.prediction([a,b])\n",
    "    z2_output = z2_perceptron.prediction([a,b])\n",
    "    z_output = z_perceptron.prediction([z1_output,z2_output])\n",
    "    return z_output\n",
    "\n",
    "print(\"XOR gate prediction\")\n",
    "print(\"A_| B___|_Y\")\n",
    "print(\"0 | 0   |\",XOR(0 ,0))\n",
    "print(\"0 | 1   |\",XOR(0 ,1))\n",
    "print(\"1 | 0   |\",XOR(1 ,0))\n",
    "print(\"1 | 1   |\",XOR(1 ,1))"
   ]
  }
 ],
 "metadata": {
  "kernelspec": {
   "display_name": "Python 3",
   "language": "python",
   "name": "python3"
  },
  "language_info": {
   "codemirror_mode": {
    "name": "ipython",
    "version": 3
   },
   "file_extension": ".py",
   "mimetype": "text/x-python",
   "name": "python",
   "nbconvert_exporter": "python",
   "pygments_lexer": "ipython3",
   "version": "3.11.6"
  }
 },
 "nbformat": 4,
 "nbformat_minor": 2
}
