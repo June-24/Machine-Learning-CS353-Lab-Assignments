{
 "cells": [
  {
   "cell_type": "code",
   "execution_count": 35,
   "metadata": {},
   "outputs": [
    {
     "name": "stdout",
     "output_type": "stream",
     "text": [
      "Train images shape (reshaped): (364800, 784, 1)\n",
      "Test images shape (reshaped): (60800, 784, 1)\n"
     ]
    }
   ],
   "source": [
    "import numpy as np\n",
    "import emnist  \n",
    "\n",
    "# Load the EMNIST dataset for digits (0-9) and uppercase letters (A-Z)\n",
    "train_images_digits, train_labels_digits = emnist.extract_training_samples('digits')\n",
    "test_images_digits, test_labels_digits = emnist.extract_test_samples('digits')\n",
    "train_images_letters, train_labels_letters = emnist.extract_training_samples('letters')\n",
    "test_images_letters, test_labels_letters = emnist.extract_test_samples('letters')\n",
    "\n",
    "# Combine the datasets\n",
    "# take 50,000 from each\n",
    "train_images = np.concatenate((train_images_digits, train_images_letters), axis=0)\n",
    "train_labels = np.concatenate((train_labels_digits, train_labels_letters + 10), axis=0)\n",
    "test_images = np.concatenate((test_images_digits, test_images_letters), axis=0)\n",
    "test_labels = np.concatenate((test_labels_digits, test_labels_letters + 10), axis=0)\n",
    "\n",
    "# Shuffle the data\n",
    "perm = np.random.permutation(train_images.shape[0])\n",
    "train_images = train_images[perm]\n",
    "train_labels = train_labels[perm]\n",
    "\n",
    "# Reshape and normalize the images\n",
    "train_images_float32 = train_images.reshape(train_images.shape[0], -1).astype(np.float32) / 255.0\n",
    "test_images_float32 = test_images.reshape(test_images.shape[0], -1).astype(np.float32) / 255.0\n",
    "test_images_float32 = test_images_float32.reshape(test_images_float32.shape[0], test_images_float32.shape[1], 1)\n",
    "train_images_float32 = train_images_float32.reshape(train_images_float32.shape[0], train_images_float32.shape[1], 1)\n",
    "\n",
    "# Print the shape of the new arrays\n",
    "print(\"Train images shape (reshaped):\", train_images_float32.shape)\n",
    "print(\"Test images shape (reshaped):\", test_images_float32.shape)\n"
   ]
  },
  {
   "cell_type": "code",
   "execution_count": 36,
   "metadata": {},
   "outputs": [
    {
     "data": {
      "image/png": "[encoded data removed]",
      "text/plain": [
       "<Figure size 1000x500 with 6 Axes>"
      ]
     },
     "metadata": {},
     "output_type": "display_data"
    }
   ],
   "source": [
    "import matplotlib.pyplot as plt\n",
    "# Define a function to display sample images\n",
    "def show_images(images, labels, num_images=6):\n",
    "    plt.figure(figsize=(10, 5))\n",
    "    for i in range(num_images):\n",
    "        plt.subplot(1, num_images, i + 1)\n",
    "        plt.imshow(images[i], cmap='gray')\n",
    "        plt.title(f\"Label: {labels[i]}\")\n",
    "        plt.axis('off')\n",
    "    plt.show()\n",
    "    \n",
    "show_images(train_images[-6:], train_labels[-6:])"
   ]
  },
  {
   "cell_type": "code",
   "execution_count": 37,
   "metadata": {},
   "outputs": [],
   "source": [
    "# Define input and output sizes\n",
    "input_size = train_images_float32.shape[1]\n",
    "output_size = len(np.unique(train_labels)) +1\n",
    "\n",
    "# Convert labels to one-hot encoding\n",
    "def one_hot_encode(labels, num_classes):\n",
    "    num_samples = len(labels)\n",
    "    one_hot_labels = np.zeros((num_samples, num_classes))\n",
    "    for i in range(num_samples):\n",
    "        one_hot_labels[i, labels[i]] = 1\n",
    "    return one_hot_labels\n",
    "\n",
    "train_labels_onehot = one_hot_encode(train_labels, output_size)\n",
    "test_labels_onehot = one_hot_encode(test_labels, output_size)\n",
    "# reshaping the one hot encodings\n",
    "train_labels_onehot = train_labels_onehot.reshape(train_labels_onehot.shape[0], train_labels_onehot.shape[1], 1)\n",
    "test_labels_onehot = test_labels_onehot.reshape(test_labels_onehot.shape[0], test_labels_onehot.shape[1], 1)"
   ]
  },
  {
   "cell_type": "code",
   "execution_count": 38,
   "metadata": {},
   "outputs": [],
   "source": [
    "from tqdm import tqdm\n",
    "\n",
    "# Create and train the neural network\n",
    "class NeuralNetwork:\n",
    "    # initialising the sizes of layers\n",
    "    def __init__(self, input_size, hidden_size, output_size, learning_rate=0.01):\n",
    "        self.input_size = input_size\n",
    "        self.hidden_size = hidden_size\n",
    "        self.output_size = output_size\n",
    "        self.learning_rate = learning_rate\n",
    "        # Initialize weights and biases\n",
    "        self.W1 = np.random.uniform(low=-0.5, high=0.5, size=(self.hidden_size, self.input_size)).astype(np.float32)\n",
    "        self.b1 = np.random.uniform(low=-0.5, high=0.5, size=(self.hidden_size, 1)).astype(np.float32)\n",
    "        self.W2 = np.random.uniform(low=-0.5, high=0.5, size=(self.output_size, self.hidden_size)).astype(np.float32)\n",
    "        self.b2 = np.random.uniform(low=-0.5, high=0.5, size=(self.output_size, 1)).astype(np.float32)\n",
    "\n",
    "    # we are using the sigmoid activation function\n",
    "    def sigmoid(self, x):\n",
    "        return 1/(1 + np.exp(-x))\n",
    "    \n",
    "    # the derivative of the sigmoid activation function\n",
    "    def sigmoid_derivative(self, x):\n",
    "        return x * (1 - x)\n",
    "    \n",
    "    # forward pass \n",
    "    def forward(self, X):\n",
    "        # straightforward, just the matrix multiplication of \n",
    "        # weights and inputs and addition with biases\n",
    "        self.z1 = np.dot(self.W1, X) + self.b1\n",
    "        self.a1 = self.sigmoid(self.z1)\n",
    "        self.z2 = np.dot(self.W2, self.a1) + self.b2\n",
    "        self.a2 = self.sigmoid(self.z2)\n",
    "        return self.a2\n",
    "    \n",
    "    # backward pass\n",
    "    def backward(self, X, y, output):\n",
    "        # calculating the two deltas\n",
    "        delta_output = (y - output)*self.sigmoid_derivative(output)\n",
    "        delta_hidden = np.dot(self.W2.T, delta_output) * self.sigmoid_derivative(self.a1)\n",
    "        \n",
    "        # the change of weights, to be added to weights later\n",
    "        dW2 = self.learning_rate * np.dot(delta_output, self.a1.T)\n",
    "        db2 = self.learning_rate * np.sum(delta_output, axis=1, keepdims=True)\n",
    "        dW1 = self.learning_rate * np.dot(delta_hidden, X.T)\n",
    "        db1 = self.learning_rate * np.sum(delta_hidden, axis=1, keepdims=True)\n",
    "        \n",
    "        # updating weights\n",
    "        self.W2 += dW2\n",
    "        self.b2 += db2\n",
    "        self.W1 += dW1\n",
    "        self.b1 += db1\n",
    "    \n",
    "    # training function\n",
    "    def train(self, X, y, epochs=20, learning_rate=0.01):\n",
    "        for epoch in tqdm(range(epochs)):\n",
    "            for i in range(len(X)):\n",
    "                temp_output = self.forward(X[i])\n",
    "                self.backward(X[i], y[i], temp_output)\n",
    "            error = np.mean(np.square(y-temp_output))\n",
    "            # checking accuracy on the test data\n",
    "            print(\"accuracy (test) : \",self.evaluate(test_images_float32, test_labels_onehot),\"%\")\n",
    "            # printing epoch and error\n",
    "            print(f'Epoch: {epoch}, Error: {error}')\n",
    "    \n",
    "    # evaluation function, to evaluate the model on the test data \n",
    "    def evaluate(self, X, y):\n",
    "        count = 0\n",
    "        for i in range(len(X)):\n",
    "            temp_output = self.forward(X[i])\n",
    "            if np.argmax(temp_output) == np.argmax(y[i]):\n",
    "                count += 1\n",
    "        return (count/len(X))*100\n",
    "    "
   ]
  },
  {
   "cell_type": "code",
   "execution_count": 39,
   "metadata": {},
   "outputs": [
    {
     "name": "stderr",
     "output_type": "stream",
     "text": [
      "  5%|▌         | 1/20 [01:19<25:12, 79.58s/it]"
     ]
    },
    {
     "name": "stdout",
     "output_type": "stream",
     "text": [
      "accuracy (test) :  64.47697368421052 %\n",
      "Epoch: 0, Error: 0.045236412219067816\n"
     ]
    },
    {
     "name": "stderr",
     "output_type": "stream",
     "text": [
      " 10%|█         | 2/20 [02:41<24:18, 81.05s/it]"
     ]
    },
    {
     "name": "stdout",
     "output_type": "stream",
     "text": [
      "accuracy (test) :  69.87664473684211 %\n",
      "Epoch: 1, Error: 0.0468829289315631\n"
     ]
    },
    {
     "name": "stderr",
     "output_type": "stream",
     "text": [
      " 15%|█▌        | 3/20 [04:03<23:03, 81.36s/it]"
     ]
    },
    {
     "name": "stdout",
     "output_type": "stream",
     "text": [
      "accuracy (test) :  73.20394736842105 %\n",
      "Epoch: 2, Error: 0.04704821883857352\n"
     ]
    },
    {
     "name": "stderr",
     "output_type": "stream",
     "text": [
      " 20%|██        | 4/20 [05:24<21:43, 81.46s/it]"
     ]
    },
    {
     "name": "stdout",
     "output_type": "stream",
     "text": [
      "accuracy (test) :  76.0625 %\n",
      "Epoch: 3, Error: 0.047055722960307834\n"
     ]
    },
    {
     "name": "stderr",
     "output_type": "stream",
     "text": [
      " 25%|██▌       | 5/20 [06:48<20:35, 82.36s/it]"
     ]
    },
    {
     "name": "stdout",
     "output_type": "stream",
     "text": [
      "accuracy (test) :  77.34868421052632 %\n",
      "Epoch: 4, Error: 0.04736708492929407\n"
     ]
    },
    {
     "name": "stderr",
     "output_type": "stream",
     "text": [
      " 30%|███       | 6/20 [08:12<19:19, 82.84s/it]"
     ]
    },
    {
     "name": "stdout",
     "output_type": "stream",
     "text": [
      "accuracy (test) :  78.22697368421052 %\n",
      "Epoch: 5, Error: 0.04796345328944928\n"
     ]
    },
    {
     "name": "stderr",
     "output_type": "stream",
     "text": [
      " 35%|███▌      | 7/20 [09:33<17:49, 82.25s/it]"
     ]
    },
    {
     "name": "stdout",
     "output_type": "stream",
     "text": [
      "accuracy (test) :  78.75986842105263 %\n",
      "Epoch: 6, Error: 0.04831824542342782\n"
     ]
    },
    {
     "name": "stderr",
     "output_type": "stream",
     "text": [
      " 40%|████      | 8/20 [10:54<16:21, 81.80s/it]"
     ]
    },
    {
     "name": "stdout",
     "output_type": "stream",
     "text": [
      "accuracy (test) :  79.15625 %\n",
      "Epoch: 7, Error: 0.04828376376827644\n"
     ]
    },
    {
     "name": "stderr",
     "output_type": "stream",
     "text": [
      " 45%|████▌     | 9/20 [12:14<14:54, 81.32s/it]"
     ]
    },
    {
     "name": "stdout",
     "output_type": "stream",
     "text": [
      "accuracy (test) :  79.56085526315789 %\n",
      "Epoch: 8, Error: 0.04813870262236853\n"
     ]
    }
   ],
   "source": [
    "# Define neural network parameters\n",
    "hidden_size = 32 # Adjust as needed\n",
    "\n",
    "# Train the neural network\n",
    "nn = NeuralNetwork(input_size, hidden_size, output_size)\n",
    "nn.train(train_images_float32, train_labels_onehot)"
   ]
  }
 ],
 "metadata": {
  "kernelspec": {
   "display_name": "myenv",
   "language": "python",
   "name": "python3"
  },
  "language_info": {
   "codemirror_mode": {
    "name": "ipython",
    "version": 3
   },
   "file_extension": ".py",
   "mimetype": "text/x-python",
   "name": "python",
   "nbconvert_exporter": "python",
   "pygments_lexer": "ipython3",
   "version": "3.12.2"
  }
 },
 "nbformat": 4,
 "nbformat_minor": 2
}
